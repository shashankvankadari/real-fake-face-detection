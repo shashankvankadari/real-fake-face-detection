{
 "cells": [
  {
   "cell_type": "code",
   "execution_count": 1,
   "metadata": {},
   "outputs": [],
   "source": [
    "import os\n"
   ]
  },
  {
   "cell_type": "code",
   "execution_count": 2,
   "metadata": {},
   "outputs": [],
   "source": [
    "cwd = os.getcwd()"
   ]
  },
  {
   "cell_type": "code",
   "execution_count": 21,
   "metadata": {},
   "outputs": [
    {
     "data": {
      "text/plain": [
       "'/home/jupyter-shv222/Image_Data/DSCI411_Project/real-vs-fake/train/real'"
      ]
     },
     "execution_count": 21,
     "metadata": {},
     "output_type": "execute_result"
    }
   ],
   "source": [
    "os.path.join(cwd, \"Image_Data/DSCI411_Project/real-vs-fake/train/real\")"
   ]
  },
  {
   "cell_type": "code",
   "execution_count": 3,
   "metadata": {},
   "outputs": [],
   "source": [
    "train_real_folder_path = os.path.join(cwd, \"Image_Data/DSCI411_Updated_Data/real-vs-fake/train/real\")\n",
    "train_fake_folder_path = os.path.join(cwd, \"Image_Data/DSCI411_Updated_Data/real-vs-fake/train/fake\")\n",
    "test_real_folder_path = os.path.join(cwd, \"Image_Data/DSCI411_Updated_Data/real-vs-fake/test/real\")\n",
    "test_fake_folder_path = os.path.join(cwd, \"Image_Data/DSCI411_Updated_Data/real-vs-fake/test/fake\")\n",
    "valid_real_folder_path = os.path.join(cwd, \"Image_Data/DSCI411_Updated_Data/real-vs-fake/valid/real\")\n",
    "valid_fake_folder_path = os.path.join(cwd, \"Image_Data/DSCI411_Updated_Data/real-vs-fake/valid/fake\")"
   ]
  },
  {
   "cell_type": "code",
   "execution_count": 4,
   "metadata": {},
   "outputs": [],
   "source": [
    "import numpy as np\n",
    "from PIL import Image\n",
    "\n",
    "def load_images_to_array(directory_path):\n",
    "    # Get the list of image files in the directory\n",
    "    image_files = [file for file in os.listdir(directory_path) if file.endswith(\".jpg\")]\n",
    "\n",
    "    # Create an empty list to store the images as NumPy arrays\n",
    "    images = []\n",
    "\n",
    "    # Loop through each image file and load it as a NumPy array\n",
    "    for file in image_files:\n",
    "        # Construct the full file path\n",
    "        file_path = os.path.join(directory_path, file)\n",
    "\n",
    "        # Load the image using PIL\n",
    "        image = Image.open(file_path)\n",
    "\n",
    "        # Convert the image to a NumPy array\n",
    "        image_array = np.array(image)\n",
    "\n",
    "        # Append the image array to the list\n",
    "        images.append(image_array)\n",
    "\n",
    "    # Convert the list of image arrays to a NumPy array\n",
    "    images_array = np.array(images)\n",
    "\n",
    "    return images_array"
   ]
  },
  {
   "cell_type": "code",
   "execution_count": 5,
   "metadata": {},
   "outputs": [],
   "source": [
    "train_real_array = load_images_to_array(train_real_folder_path)\n",
    "train_fake_array = load_images_to_array(train_fake_folder_path)\n",
    "test_real_array = load_images_to_array(test_real_folder_path)\n",
    "test_fake_array = load_images_to_array(test_fake_folder_path)\n",
    "valid_real_array = load_images_to_array(valid_real_folder_path)\n",
    "valid_fake_array = load_images_to_array(valid_fake_folder_path)"
   ]
  },
  {
   "cell_type": "code",
   "execution_count": 6,
   "metadata": {},
   "outputs": [
    {
     "name": "stdout",
     "output_type": "stream",
     "text": [
      "train_real_array (1750, 256, 256, 3)\n",
      "train_fake_array (1750, 256, 256, 3)\n",
      "test_real_array (375, 256, 256, 3)\n",
      "test_fake_array (375, 256, 256, 3)\n",
      "valid_real_array (375, 256, 256, 3)\n",
      "valid_fake_array (375, 256, 256, 3)\n"
     ]
    }
   ],
   "source": [
    "print(\"train_real_array\", train_real_array.shape)\n",
    "print(\"train_fake_array\", train_fake_array.shape)\n",
    "print(\"test_real_array\", test_real_array.shape)\n",
    "print(\"test_fake_array\", test_fake_array.shape)\n",
    "print(\"valid_real_array\", valid_real_array.shape)\n",
    "print(\"valid_fake_array\", valid_fake_array.shape)"
   ]
  },
  {
   "cell_type": "code",
   "execution_count": 7,
   "metadata": {},
   "outputs": [],
   "source": [
    "X_train = np.concatenate((train_real_array, train_fake_array), axis=0)\n",
    "X_valid = np.concatenate((test_real_array, test_fake_array), axis=0)\n",
    "X_test = np.concatenate((valid_real_array, valid_fake_array), axis=0)"
   ]
  },
  {
   "cell_type": "code",
   "execution_count": 8,
   "metadata": {},
   "outputs": [
    {
     "name": "stdout",
     "output_type": "stream",
     "text": [
      "The size of the target variable for Training, testing, and validation data respectively are --  (3500,) (750,) (750,)\n"
     ]
    }
   ],
   "source": [
    "y_train_real = np.ones(train_real_array.shape[0])\n",
    "y_train_fake = np.zeros(train_fake_array.shape[0])\n",
    "y_valid_real = np.ones(test_real_array.shape[0])\n",
    "y_valid_fake = np.zeros(test_fake_array.shape[0])\n",
    "y_test_real = np.ones(valid_real_array.shape[0])\n",
    "y_test_fake = np.zeros(valid_fake_array.shape[0])\n",
    "\n",
    "# Form one target variable each for training, testing and validation set.\n",
    "y_train = np.concatenate((y_train_real, y_train_fake), axis=0)\n",
    "y_valid = np.concatenate((y_valid_real, y_valid_fake), axis=0)\n",
    "y_test = np.concatenate((y_test_real, y_test_fake), axis=0)\n",
    "\n",
    "print(\"The size of the target variable for Training, testing, and validation data respectively are -- \",y_train.shape, y_test.shape, y_valid.shape)"
   ]
  },
  {
   "cell_type": "code",
   "execution_count": 9,
   "metadata": {},
   "outputs": [],
   "source": [
    "#Normalize (0 to 255 pixel values)\n",
    "X_train, X_test, X_valid  = X_train/255, X_test/255, X_valid/255;\n",
    "\n",
    "#Convert to float32 type\n",
    "X_train = X_train.astype('float32')\n",
    "X_test = X_test.astype('float32')\n",
    "X_valid = X_valid.astype('float32')\n",
    "\n",
    "\n"
   ]
  },
  {
   "cell_type": "code",
   "execution_count": 10,
   "metadata": {},
   "outputs": [
    {
     "name": "stdout",
     "output_type": "stream",
     "text": [
      "The shape of y_train: (3500, 2)\n",
      "The shape of y_test: (750, 2)\n",
      "The shape of y_valid: (750, 2)\n"
     ]
    }
   ],
   "source": [
    "from keras.utils import to_categorical\n",
    "\n",
    "#One-hot encode the labels\n",
    "y_train = to_categorical(y_train)\n",
    "y_test = to_categorical(y_test)\n",
    "y_valid = to_categorical(y_valid)\n",
    "\n",
    "#Check the shape of the labels\n",
    "print('The shape of y_train:', y_train.shape)\n",
    "print('The shape of y_test:', y_test.shape)\n",
    "print('The shape of y_valid:', y_valid.shape)"
   ]
  },
  {
   "cell_type": "code",
   "execution_count": 11,
   "metadata": {
    "scrolled": true
   },
   "outputs": [
    {
     "name": "stdout",
     "output_type": "stream",
     "text": [
      "Epoch 1/20\n",
      "110/110 [==============================] - 91s 823ms/step - loss: 0.7552 - accuracy: 0.5197 - val_loss: 0.6908 - val_accuracy: 0.5000\n",
      "Epoch 2/20\n",
      "110/110 [==============================] - 88s 799ms/step - loss: 0.6901 - accuracy: 0.5626 - val_loss: 0.6880 - val_accuracy: 0.5387\n",
      "Epoch 3/20\n",
      "110/110 [==============================] - 87s 792ms/step - loss: 0.6382 - accuracy: 0.6397 - val_loss: 0.6436 - val_accuracy: 0.6507\n",
      "Epoch 4/20\n",
      "110/110 [==============================] - 88s 797ms/step - loss: 0.5749 - accuracy: 0.7009 - val_loss: 0.6338 - val_accuracy: 0.6760\n",
      "Epoch 5/20\n",
      "110/110 [==============================] - 87s 795ms/step - loss: 0.4885 - accuracy: 0.7620 - val_loss: 0.5933 - val_accuracy: 0.7093\n",
      "Epoch 6/20\n",
      "110/110 [==============================] - 87s 794ms/step - loss: 0.4190 - accuracy: 0.8023 - val_loss: 0.6237 - val_accuracy: 0.7187\n",
      "Epoch 7/20\n",
      "110/110 [==============================] - 87s 793ms/step - loss: 0.3056 - accuracy: 0.8686 - val_loss: 0.8150 - val_accuracy: 0.7173\n",
      "Epoch 8/20\n",
      "110/110 [==============================] - 87s 792ms/step - loss: 0.2064 - accuracy: 0.9163 - val_loss: 0.9326 - val_accuracy: 0.7253\n",
      "Epoch 9/20\n",
      "110/110 [==============================] - 87s 791ms/step - loss: 0.1039 - accuracy: 0.9637 - val_loss: 1.3854 - val_accuracy: 0.7240\n",
      "Epoch 10/20\n",
      "110/110 [==============================] - 87s 791ms/step - loss: 0.0671 - accuracy: 0.9794 - val_loss: 1.6022 - val_accuracy: 0.7240\n",
      "Epoch 11/20\n",
      "110/110 [==============================] - 87s 789ms/step - loss: 0.0335 - accuracy: 0.9889 - val_loss: 1.5845 - val_accuracy: 0.7293\n",
      "Epoch 12/20\n",
      "110/110 [==============================] - 87s 793ms/step - loss: 0.0339 - accuracy: 0.9889 - val_loss: 2.2099 - val_accuracy: 0.7147\n",
      "Epoch 13/20\n",
      "110/110 [==============================] - 87s 794ms/step - loss: 0.0434 - accuracy: 0.9883 - val_loss: 1.4880 - val_accuracy: 0.6920\n",
      "Epoch 14/20\n",
      "110/110 [==============================] - 87s 793ms/step - loss: 0.0203 - accuracy: 0.9957 - val_loss: 1.9767 - val_accuracy: 0.7160\n",
      "Epoch 15/20\n",
      "110/110 [==============================] - 88s 796ms/step - loss: 0.0023 - accuracy: 1.0000 - val_loss: 2.2757 - val_accuracy: 0.6987\n",
      "Epoch 16/20\n",
      "110/110 [==============================] - 88s 798ms/step - loss: 5.2703e-04 - accuracy: 1.0000 - val_loss: 2.4169 - val_accuracy: 0.7080\n",
      "Epoch 17/20\n",
      "110/110 [==============================] - 88s 796ms/step - loss: 2.8160e-04 - accuracy: 1.0000 - val_loss: 2.5097 - val_accuracy: 0.7067\n",
      "Epoch 18/20\n",
      "110/110 [==============================] - 88s 798ms/step - loss: 1.9503e-04 - accuracy: 1.0000 - val_loss: 2.5783 - val_accuracy: 0.7107\n",
      "Epoch 19/20\n",
      "110/110 [==============================] - 88s 796ms/step - loss: 1.4726e-04 - accuracy: 1.0000 - val_loss: 2.6354 - val_accuracy: 0.7133\n",
      "Epoch 20/20\n",
      "110/110 [==============================] - 88s 797ms/step - loss: 1.1625e-04 - accuracy: 1.0000 - val_loss: 2.6843 - val_accuracy: 0.7133\n"
     ]
    }
   ],
   "source": [
    "import tensorflow as tf\n",
    "from tensorflow.keras.models import Sequential\n",
    "from tensorflow.keras.layers import Conv2D, MaxPooling2D, Flatten, Dense\n",
    "\n",
    "# Define the CNN model\n",
    "model = Sequential()\n",
    "model.add(Conv2D(32, (3, 3), activation='relu', input_shape=(256, 256, 3)))\n",
    "model.add(MaxPooling2D((2, 2)))\n",
    "model.add(Conv2D(64, (3, 3), activation='relu'))\n",
    "model.add(MaxPooling2D((2, 2)))\n",
    "model.add(Conv2D(128, (3, 3), activation='relu'))\n",
    "model.add(MaxPooling2D((2, 2)))\n",
    "model.add(Flatten())\n",
    "model.add(Dense(128, activation='relu'))\n",
    "model.add(Dense(2, activation='sigmoid'))\n",
    "\n",
    "# Compile the model\n",
    "model.compile(optimizer='adam', loss='binary_crossentropy', metrics=['accuracy'])\n",
    "\n",
    "# Train the model\n",
    "history = model.fit(X_train, y_train, validation_data=(X_valid, y_valid), epochs=20)"
   ]
  },
  {
   "cell_type": "code",
   "execution_count": 12,
   "metadata": {},
   "outputs": [
    {
     "data": {
      "image/png": "[encoded data removed]",
      "text/plain": [
       "<Figure size 432x288 with 1 Axes>"
      ]
     },
     "metadata": {
      "needs_background": "light"
     },
     "output_type": "display_data"
    }
   ],
   "source": [
    "import matplotlib.pyplot as plt\n",
    "\n",
    "# Plot the train and validation loss over epochs\n",
    "train_loss = history.history['loss']\n",
    "val_loss = history.history['val_loss']\n",
    "epochs = range(1, len(train_loss) + 1)\n",
    "\n",
    "plt.plot(epochs, train_loss, 'g', label='Training loss')\n",
    "plt.plot(epochs, val_loss, 'b', label='Validation loss')\n",
    "plt.title('Training and validation loss')\n",
    "plt.xlabel('Epochs')\n",
    "plt.ylabel('Loss')\n",
    "plt.legend()\n",
    "plt.show()\n"
   ]
  },
  {
   "cell_type": "code",
   "execution_count": 13,
   "metadata": {
    "scrolled": true
   },
   "outputs": [
    {
     "data": {
      "image/png": "[encoded data removed]",
      "text/plain": [
       "<Figure size 432x288 with 1 Axes>"
      ]
     },
     "metadata": {
      "needs_background": "light"
     },
     "output_type": "display_data"
    }
   ],
   "source": [
    "# Plot the train and validation loss over epochs\n",
    "acc = history.history['accuracy']\n",
    "val_acc = history.history['val_accuracy']\n",
    "epochs = range(1, len(train_loss) + 1)\n",
    "\n",
    "plt.plot(epochs, acc, 'g', label='Training accuracy')\n",
    "plt.plot(epochs, val_acc, 'b', label='Validation accuracy')\n",
    "plt.title('Training and validation accuracies')\n",
    "plt.xlabel('Epochs')\n",
    "plt.ylabel('Accuracy')\n",
    "plt.legend()\n",
    "plt.show()\n"
   ]
  },
  {
   "cell_type": "code",
   "execution_count": null,
   "metadata": {},
   "outputs": [],
   "source": []
  },
  {
   "cell_type": "code",
   "execution_count": 14,
   "metadata": {},
   "outputs": [
    {
     "name": "stdout",
     "output_type": "stream",
     "text": [
      "24/24 [==============================] - 3s 129ms/step - loss: 2.7536 - accuracy: 0.7080\n",
      "Test Loss: 2.753605842590332\n",
      "Test Accuracy: 0.7080000042915344\n"
     ]
    }
   ],
   "source": [
    "# Evaluate the model\n",
    "test_loss, test_accuracy = model.evaluate(X_test, y_test)\n",
    "print('Test Loss:', test_loss)\n",
    "print('Test Accuracy:', test_accuracy)\n"
   ]
  },
  {
   "cell_type": "code",
   "execution_count": 15,
   "metadata": {},
   "outputs": [
    {
     "name": "stdout",
     "output_type": "stream",
     "text": [
      "[[263 112]\n",
      " [107 268]]\n",
      "              precision    recall  f1-score   support\n",
      "\n",
      "           0       0.71      0.70      0.71       375\n",
      "           1       0.71      0.71      0.71       375\n",
      "\n",
      "    accuracy                           0.71       750\n",
      "   macro avg       0.71      0.71      0.71       750\n",
      "weighted avg       0.71      0.71      0.71       750\n",
      "\n"
     ]
    }
   ],
   "source": [
    "from sklearn.metrics import classification_report, confusion_matrix\n",
    "# Evaluate the model on the testing data\n",
    "y_pred = model.predict(X_test)\n",
    "y_pred1 = np.argmax(y_pred, axis=1)\n",
    "y_test1 = np.argmax(y_test, axis=1)\n",
    "confusion_matrix = confusion_matrix(y_test1, y_pred1)\n",
    "print(confusion_matrix)\n",
    "print(classification_report(y_test1, y_pred1))"
   ]
  },
  {
   "cell_type": "code",
   "execution_count": 23,
   "metadata": {},
   "outputs": [
    {
     "data": {
      "image/png": "[encoded data removed]",
      "text/plain": [
       "<Figure size 432x288 with 2 Axes>"
      ]
     },
     "metadata": {
      "needs_background": "light"
     },
     "output_type": "display_data"
    }
   ],
   "source": [
    "Fake=0\n",
    "Real=1\n",
    "from sklearn import metrics\n",
    "cm_display = metrics.ConfusionMatrixDisplay(confusion_matrix = confusion_matrix, display_labels = [Fake, Real])\n",
    "#cm_display.value_format = '2f'\n",
    "cm_display.plot()\n",
    "plt.show()"
   ]
  },
  {
   "cell_type": "code",
   "execution_count": 17,
   "metadata": {},
   "outputs": [
    {
     "name": "stdout",
     "output_type": "stream",
     "text": [
      "Precision: 0.71\n",
      "Recall: 0.71\n"
     ]
    }
   ],
   "source": [
    "# Make predictions\n",
    "# Calculate precision and recall\n",
    "tp = confusion_matrix[1, 1]\n",
    "fp = confusion_matrix[0, 1]\n",
    "tn = confusion_matrix[0, 0]\n",
    "fn = confusion_matrix[1, 0]\n",
    "\n",
    "precision = tp / (tp + fp)\n",
    "recall = tp / (tp + fn)\n",
    "\n",
    "print(\"Precision: {:.2f}\".format(precision))\n",
    "print(\"Recall: {:.2f}\".format(recall))"
   ]
  },
  {
   "cell_type": "code",
   "execution_count": null,
   "metadata": {},
   "outputs": [],
   "source": []
  }
 ],
 "metadata": {
  "kernelspec": {
   "display_name": "Python 3",
   "language": "python",
   "name": "python3"
  },
  "language_info": {
   "codemirror_mode": {
    "name": "ipython",
    "version": 3
   },
   "file_extension": ".py",
   "mimetype": "text/x-python",
   "name": "python",
   "nbconvert_exporter": "python",
   "pygments_lexer": "ipython3",
   "version": "3.7.6"
  }
 },
 "nbformat": 4,
 "nbformat_minor": 4
}
